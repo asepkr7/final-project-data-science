version https://git-lfs.github.com/spec/v1
oid sha256:a69b2d685c1cb96ea982d4f62a6831dd781bd3dcf19bd6ae8af4893aba10f197
size 930653
